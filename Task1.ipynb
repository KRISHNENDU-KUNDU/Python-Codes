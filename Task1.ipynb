{
 "cells": [
  {
   "cell_type": "code",
   "execution_count": 3,
   "id": "9c927635-2913-4b15-a9fe-9dc5654633cc",
   "metadata": {},
   "outputs": [
    {
     "data": {
      "text/plain": [
       "{'key1': 3,\n",
       " 'key2': [1, 2, 3, 4, 5, 6],\n",
       " 'key3': 'Hello',\n",
       " 'key4': [1, 2, 'Hey', 3, 'world', 4],\n",
       " 'key5': (1, 2, 3, 4, 5),\n",
       " 'key6': {'Bro', 'Hello', 'How are you'},\n",
       " 'key7': ['I', 'am', 'atomic']}"
      ]
     },
     "execution_count": 3,
     "metadata": {},
     "output_type": "execute_result"
    }
   ],
   "source": [
    "a = 3 \n",
    "b = [1,2,3,4,5,6]\n",
    "c = \"Hello\"\n",
    "d = [1,2,\"Hey\",3,\"world\",4]\n",
    "e = (1,2,3,4,5)\n",
    "f = {\"Hello\",\"Bro\",\"How are you\"}\n",
    "g = [\"I\",\"am\",\"atomic\"]\n",
    "\n",
    "dictor1 = { \"key1\":a, \"key2\":b,\"key3\":c,\"key4\":d,\"key5\":e,\"key6\":f,\"key7\":g }\n",
    "dictor1"
   ]
  },
  {
   "cell_type": "code",
   "execution_count": null,
   "id": "0c07766f-9e88-4222-a215-36007eff7b82",
   "metadata": {},
   "outputs": [],
   "source": []
  },
  {
   "cell_type": "code",
   "execution_count": null,
   "id": "bd6eb56d-ead7-469c-8b33-37f46185d8be",
   "metadata": {},
   "outputs": [],
   "source": []
  }
 ],
 "metadata": {
  "kernelspec": {
   "display_name": "Python 3 (ipykernel)",
   "language": "python",
   "name": "python3"
  },
  "language_info": {
   "codemirror_mode": {
    "name": "ipython",
    "version": 3
   },
   "file_extension": ".py",
   "mimetype": "text/x-python",
   "name": "python",
   "nbconvert_exporter": "python",
   "pygments_lexer": "ipython3",
   "version": "3.9.13"
  }
 },
 "nbformat": 4,
 "nbformat_minor": 5
}
